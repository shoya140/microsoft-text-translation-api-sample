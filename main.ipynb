{
 "cells": [
  {
   "cell_type": "code",
   "execution_count": null,
   "metadata": {
    "collapsed": true
   },
   "outputs": [],
   "source": [
    "import os\n",
    "import requests\n",
    "from xml.etree import ElementTree\n",
    "from auth import AzureAuthClient"
   ]
  },
  {
   "cell_type": "code",
   "execution_count": null,
   "metadata": {
    "collapsed": true
   },
   "outputs": [],
   "source": [
    "auth_client = AzureAuthClient(os.getenv(\"MICROSOFT_TRANSLATE_CLIENT_SECRET\"))\n",
    "auth_token = auth_client.get_access_token()"
   ]
  },
  {
   "cell_type": "code",
   "execution_count": null,
   "metadata": {
    "collapsed": true
   },
   "outputs": [],
   "source": [
    "text_to_translate = \"Hello, World\"\n",
    "to_lang_code = \"ja\"\n",
    "\n",
    "headers = {\"Authorization \": 'Bearer '.encode('utf-8') + auth_token}\n",
    "url = \"http://api.microsofttranslator.com/v2/Http.svc/Translate?text={}&to={}\".format(text_to_translate, to_lang_code)\n",
    "data = requests.get(url, headers = headers)"
   ]
  },
  {
   "cell_type": "code",
   "execution_count": null,
   "metadata": {},
   "outputs": [
    {
     "name": "stdout",
     "output_type": "stream",
     "text": [
      "ハローワールド\n"
     ]
    }
   ],
   "source": [
    "print(ElementTree.fromstring(data.text.encode('utf-8')).text)"
   ]
  },
  {
   "cell_type": "code",
   "execution_count": null,
   "metadata": {
    "collapsed": true
   },
   "outputs": [],
   "source": []
  }
 ],
 "metadata": {
  "kernelspec": {
   "display_name": "Python 3",
   "language": "python",
   "name": "python3"
  },
  "language_info": {
   "codemirror_mode": {
    "name": "ipython",
    "version": 3
   },
   "file_extension": ".py",
   "mimetype": "text/x-python",
   "name": "python",
   "nbconvert_exporter": "python",
   "pygments_lexer": "ipython3",
   "version": "3.6.1"
  }
 },
 "nbformat": 4,
 "nbformat_minor": 2
}
